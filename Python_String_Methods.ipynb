{
 "cells": [
  {
   "cell_type": "code",
   "execution_count": 12,
   "id": "2f7eeadc-696c-48be-bbf2-ff802db408bb",
   "metadata": {},
   "outputs": [
    {
     "name": "stdout",
     "output_type": "stream",
     "text": [
      "Number of latter a in name is 5.\n",
      "Batuhan balaban\n",
      "BATUHAN BALABAN\n",
      "batuhan balaban\n",
      "Batuhan Balaban\n",
      "False\n",
      "True\n"
     ]
    }
   ],
   "source": [
    "name = \"batuhan balaban\"\n",
    "print (\"Number of latter a in name is \" + str(name.count(\"a\")) + \".\")\n",
    "print(name.capitalize())\n",
    "print(name.upper())\n",
    "print(name.lower())\n",
    "print(name.title())\n",
    "print(name.isupper())\n",
    "print(name.islower())\n"
   ]
  },
  {
   "cell_type": "code",
   "execution_count": null,
   "id": "464292ea-afc8-4550-8b02-ea78cc588bee",
   "metadata": {},
   "outputs": [],
   "source": []
  }
 ],
 "metadata": {
  "kernelspec": {
   "display_name": "Python 3 (ipykernel)",
   "language": "python",
   "name": "python3"
  },
  "language_info": {
   "codemirror_mode": {
    "name": "ipython",
    "version": 3
   },
   "file_extension": ".py",
   "mimetype": "text/x-python",
   "name": "python",
   "nbconvert_exporter": "python",
   "pygments_lexer": "ipython3",
   "version": "3.11.7"
  }
 },
 "nbformat": 4,
 "nbformat_minor": 5
}
